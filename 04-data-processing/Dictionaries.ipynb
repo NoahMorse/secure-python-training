{
 "cells": [
  {
   "cell_type": "code",
   "execution_count": 1,
   "metadata": {
    "trusted": true
   },
   "outputs": [
    {
     "name": "stdout",
     "output_type": "stream",
     "text": [
      "{'Alice': '412-123-4567', 'Bob': '919-456-7890', 'Eve': '412-896-6415'}\n"
     ]
    }
   ],
   "source": [
    "# Python Dictionaries are made of key-value pairs\n",
    "\n",
    "phonebook = {\"Alice\": \"412-123-4567\",\n",
    "             \"Bob\": \"919-456-7890\",\n",
    "             \"Eve\": \"412-896-6415\"\n",
    "            }\n",
    "print(phonebook)"
   ]
  },
  {
   "cell_type": "code",
   "execution_count": 2,
   "metadata": {
    "trusted": true
   },
   "outputs": [
    {
     "name": "stdout",
     "output_type": "stream",
     "text": [
      "412-123-4567\n"
     ]
    }
   ],
   "source": [
    "# We're able to refer to VALUES in the dictionaries based off their unique keys\n",
    "\n",
    "print(phonebook[\"Alice\"])"
   ]
  },
  {
   "cell_type": "code",
   "execution_count": 3,
   "metadata": {
    "trusted": true
   },
   "outputs": [
    {
     "name": "stdout",
     "output_type": "stream",
     "text": [
      "{'Alice': '412-123-4567', 'Bob': '919-456-7890', 'Eve': '412-896-6415', 'Charlie': '412-555-0199'}\n"
     ]
    }
   ],
   "source": [
    "# We can ADD values to a dictionary\n",
    "\n",
    "phonebook[\"Charlie\"] = \"412-555-0199\"\n",
    "print(phonebook)"
   ]
  },
  {
   "cell_type": "code",
   "execution_count": 4,
   "metadata": {
    "trusted": true
   },
   "outputs": [
    {
     "name": "stdout",
     "output_type": "stream",
     "text": [
      "{'Alice': '412-123-4567', 'Bob': '919-456-7890', 'Eve': '412-896-6415'}\n"
     ]
    }
   ],
   "source": [
    "# We can also REMOVE values from a dictionary\n",
    "phonebook.pop(\"Charlie\")\n",
    "print(phonebook)"
   ]
  },
  {
   "cell_type": "code",
   "execution_count": 6,
   "metadata": {
    "trusted": true
   },
   "outputs": [
    {
     "name": "stdout",
     "output_type": "stream",
     "text": [
      "['412-123-4567', '724-765-4321']\n"
     ]
    }
   ],
   "source": [
    "# Values are MUTABLE\n",
    "# Values do not have to be of the same type\n",
    "\n",
    "phonebook[\"Alice\"] = [\"412-123-4567\", \"724-765-4321\"]\n",
    "print(phonebook[\"Alice\"])"
   ]
  },
  {
   "cell_type": "code",
   "execution_count": null,
   "metadata": {},
   "outputs": [
    {
     "ename": "KeyError",
     "evalue": "'Joe'",
     "output_type": "error",
     "traceback": [
      "\u001b[0;31m---------------------------------------------------------------------------\u001b[0m",
      "\u001b[0;31mKeyError\u001b[0m                                  Traceback (most recent call last)",
      "Cell \u001b[0;32mIn[7], line 2\u001b[0m\n\u001b[1;32m      1\u001b[0m \u001b[38;5;66;03m# Referncing dictionary values that don't exit\u001b[39;00m\n\u001b[0;32m----> 2\u001b[0m \u001b[38;5;28mprint\u001b[39m(\u001b[43mphonebook\u001b[49m\u001b[43m[\u001b[49m\u001b[38;5;124;43m\"\u001b[39;49m\u001b[38;5;124;43mJoe\u001b[39;49m\u001b[38;5;124;43m\"\u001b[39;49m\u001b[43m]\u001b[49m)\n",
      "\u001b[0;31mKeyError\u001b[0m: 'Joe'"
     ]
    }
   ],
   "source": [
    "# Referencing dictionary values that don't exit\n",
    "print(phonebook[\"Joe\"])"
   ]
  },
  {
   "cell_type": "code",
   "execution_count": null,
   "metadata": {},
   "outputs": [
    {
     "name": "stdout",
     "output_type": "stream",
     "text": [
      "Joe not in phonebook\n",
      "Joe not in phonebook\n"
     ]
    }
   ],
   "source": [
    "# We can fix that one of two ways\n",
    "if \"Joe\" in phonebook:\n",
    "    print(phonebook[\"Joe\"])\n",
    "else:\n",
    "    print(\"Joe not in phonebook\")\n",
    "\n",
    "\n",
    "# OR \n",
    "print(phonebook.get(\"Joe\", \"Joe not in phonebook\"))"
   ]
  },
  {
   "cell_type": "code",
   "execution_count": 14,
   "metadata": {},
   "outputs": [
    {
     "ename": "KeyError",
     "evalue": "'Joe'",
     "output_type": "error",
     "traceback": [
      "\u001b[0;31m---------------------------------------------------------------------------\u001b[0m",
      "\u001b[0;31mKeyError\u001b[0m                                  Traceback (most recent call last)",
      "Cell \u001b[0;32mIn[14], line 2\u001b[0m\n\u001b[1;32m      1\u001b[0m \u001b[38;5;66;03m# Deleting dictionary values\u001b[39;00m\n\u001b[0;32m----> 2\u001b[0m \u001b[38;5;28;01mdel\u001b[39;00m \u001b[43mphonebook\u001b[49m\u001b[43m[\u001b[49m\u001b[38;5;124;43m\"\u001b[39;49m\u001b[38;5;124;43mJoe\u001b[39;49m\u001b[38;5;124;43m\"\u001b[39;49m\u001b[43m]\u001b[49m\n\u001b[1;32m      3\u001b[0m \u001b[38;5;28mprint\u001b[39m(phonebook)\n",
      "\u001b[0;31mKeyError\u001b[0m: 'Joe'"
     ]
    }
   ],
   "source": [
    "# Deleting dictionary values\n",
    "del phonebook[\"Joe\"]\n",
    "print(phonebook)"
   ]
  },
  {
   "cell_type": "code",
   "execution_count": null,
   "metadata": {},
   "outputs": [
    {
     "name": "stdout",
     "output_type": "stream",
     "text": [
      "Bob not in phonebook\n",
      "{'Eve': '412-896-6415'}\n"
     ]
    }
   ],
   "source": [
    "# Safely deleting dictionary values\n",
    "result1 = phonebook.pop(\"Bob\", \"Bob not in phonebook\")\n",
    "print(result1)\n",
    "\n",
    "phonebook.pop(\"Joe\", None)\n",
    "print(phonebook)"
   ]
  },
  {
   "cell_type": "code",
   "execution_count": null,
   "metadata": {},
   "outputs": [],
   "source": []
  },
  {
   "cell_type": "code",
   "execution_count": null,
   "metadata": {},
   "outputs": [],
   "source": []
  },
  {
   "cell_type": "code",
   "execution_count": null,
   "metadata": {},
   "outputs": [],
   "source": []
  },
  {
   "cell_type": "code",
   "execution_count": null,
   "metadata": {},
   "outputs": [],
   "source": []
  },
  {
   "cell_type": "code",
   "execution_count": 44,
   "metadata": {
    "trusted": true
   },
   "outputs": [
    {
     "name": "stdout",
     "output_type": "stream",
     "text": [
      "{'John Campbell': '412-896-6415',\n",
      " 'Mike Burch': '919-456-7890',\n",
      " 'Noah Morse': {'address': '123 Main Street',\n",
      "                'age': 28,\n",
      "                'numbers': ['412-123-4567', '724-765-4321']}}\n"
     ]
    }
   ],
   "source": [
    "# We can NEST dictionaries inside of each other \n",
    "phonebook[\"Noah Morse\"] = {\"numbers\": [\"412-123-4567\", \"724-765-4321\"], \"address\": \"123 Main Street\", \"age\": 28}\n",
    "import pprint\n",
    "\n",
    "pprint.pprint(phonebook)"
   ]
  },
  {
   "cell_type": "code",
   "execution_count": 46,
   "metadata": {
    "trusted": true
   },
   "outputs": [
    {
     "name": "stdout",
     "output_type": "stream",
     "text": [
      "<class 'str'>\n"
     ]
    }
   ],
   "source": [
    "# Python will read in JSON as dictionaries\n",
    "phonebook = '''{\"John Doe\": {\"phone\": \"555-1234\", \"email\": \"john.doe@example.com\", \"address\": {\"street\": \"123 Main St\", \"city\": \"Anytown\", \"state\": \"CA\", \"zip\": \"12345\"}}, \"Jane Smith\": {\"phone\": \"555-5678\", \"email\": \"jane.smith@example.com\", \"address\": {\"street\": \"456 Elm St\", \"city\": \"Othertown\", \"state\": \"NY\", \"zip\": \"67890\"}}, \"Bob Johnson\": {\"phone\": \"555-8765\", \"email\": \"bob.johnson@example.com\", \"address\": {\"street\": \"789 Oak St\", \"city\": \"Sometown\", \"state\": \"TX\", \"zip\": \"54321\"}}}'''\n",
    "print(type(phonebook))"
   ]
  },
  {
   "cell_type": "code",
   "execution_count": 47,
   "metadata": {
    "trusted": true
   },
   "outputs": [
    {
     "name": "stdout",
     "output_type": "stream",
     "text": [
      "<class 'dict'>\n",
      "{'Bob Johnson': {'address': {'city': 'Sometown',\n",
      "                             'state': 'TX',\n",
      "                             'street': '789 Oak St',\n",
      "                             'zip': '54321'},\n",
      "                 'email': 'bob.johnson@example.com',\n",
      "                 'phone': '555-8765'},\n",
      " 'Jane Smith': {'address': {'city': 'Othertown',\n",
      "                            'state': 'NY',\n",
      "                            'street': '456 Elm St',\n",
      "                            'zip': '67890'},\n",
      "                'email': 'jane.smith@example.com',\n",
      "                'phone': '555-5678'},\n",
      " 'John Doe': {'address': {'city': 'Anytown',\n",
      "                          'state': 'CA',\n",
      "                          'street': '123 Main St',\n",
      "                          'zip': '12345'},\n",
      "              'email': 'john.doe@example.com',\n",
      "              'phone': '555-1234'}}\n"
     ]
    }
   ],
   "source": [
    "# We can convert our string to a dictionary with the json library\n",
    "\n",
    "import json\n",
    "json_phonebook = json.loads(phonebook)\n",
    "print(type(json_phonebook))\n",
    "pprint.pprint(json_phonebook)"
   ]
  },
  {
   "cell_type": "code",
   "execution_count": null,
   "metadata": {
    "trusted": true
   },
   "outputs": [],
   "source": [
    "# This lets us grab the specific information we need, more easily\n",
    "jane_state = json_phonebook[\"Jane Smith\"][\"address\"][\"state\"]\n",
    "print(jane_state)"
   ]
  },
  {
   "cell_type": "code",
   "execution_count": 48,
   "metadata": {
    "trusted": true
   },
   "outputs": [
    {
     "name": "stdout",
     "output_type": "stream",
     "text": [
      "<Response [200]>\n",
      "{'args': {}, 'headers': {'Accept': '*/*', 'Accept-Encoding': 'gzip, deflate, br, zstd', 'Accept-Language': 'en-US,en;q=0.9', 'Host': 'httpbin.org', 'Origin': 'https://jupyter.org', 'Priority': 'u=0, i', 'Referer': 'https://jupyter.org/', 'Sec-Fetch-Dest': 'empty', 'Sec-Fetch-Mode': 'cors', 'Sec-Fetch-Site': 'cross-site', 'User-Agent': 'Mozilla/5.0 (Macintosh; Intel Mac OS X 10_15_7) AppleWebKit/537.36 (KHTML, like Gecko) Chrome/128.0.0.0 Safari/537.36', 'X-Amzn-Trace-Id': 'Root=1-6712969f-012f3f540cf9b2c238a390c9'}, 'origin': '96.236.227.104', 'url': 'https://httpbin.org/get'}\n"
     ]
    }
   ],
   "source": [
    "import requests\n",
    "\n",
    "url = \"https://httpbin.org/get\"\n",
    "\n",
    "r = requests.get(url)\n",
    "\n",
    "print(r)\n",
    "response = r.json()\n",
    "print(response)"
   ]
  },
  {
   "cell_type": "code",
   "execution_count": null,
   "metadata": {
    "trusted": true
   },
   "outputs": [],
   "source": [
    "import json\n",
    "url = \"https://httpbin.org/post\"\n",
    "r = requests.post(url, data=phonebook)\n",
    "response = r.json()\n",
    "pprint.pprint(response)"
   ]
  },
  {
   "cell_type": "code",
   "execution_count": null,
   "metadata": {
    "trusted": true
   },
   "outputs": [],
   "source": []
  },
  {
   "cell_type": "code",
   "execution_count": null,
   "metadata": {
    "trusted": true
   },
   "outputs": [],
   "source": []
  },
  {
   "cell_type": "code",
   "execution_count": null,
   "metadata": {
    "trusted": true
   },
   "outputs": [],
   "source": []
  },
  {
   "cell_type": "code",
   "execution_count": null,
   "metadata": {
    "trusted": true
   },
   "outputs": [],
   "source": []
  },
  {
   "cell_type": "code",
   "execution_count": null,
   "metadata": {
    "trusted": true
   },
   "outputs": [],
   "source": []
  }
 ],
 "metadata": {
  "kernelspec": {
   "display_name": ".venv",
   "language": "python",
   "name": "python3"
  },
  "language_info": {
   "codemirror_mode": {
    "name": "ipython",
    "version": 3
   },
   "file_extension": ".py",
   "mimetype": "text/x-python",
   "name": "python",
   "nbconvert_exporter": "python",
   "pygments_lexer": "ipython3",
   "version": "3.13.0"
  }
 },
 "nbformat": 4,
 "nbformat_minor": 4
}
