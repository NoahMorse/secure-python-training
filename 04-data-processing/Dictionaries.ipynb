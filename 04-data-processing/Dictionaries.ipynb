{
  "metadata": {
    "kernelspec": {
      "name": "python",
      "display_name": "Python (Pyodide)",
      "language": "python"
    },
    "language_info": {
      "codemirror_mode": {
        "name": "python",
        "version": 3
      },
      "file_extension": ".py",
      "mimetype": "text/x-python",
      "name": "python",
      "nbconvert_exporter": "python",
      "pygments_lexer": "ipython3",
      "version": "3.8"
    }
  },
  "nbformat_minor": 4,
  "nbformat": 4,
  "cells": [
    {
      "cell_type": "code",
      "source": "# Python Dictionaries are made of key-value pairs\n\nphonebook = {\"Noah Morse\": \"412-123-4567\",\n             \"Mike Burch\": \"919-456-7890\",\n             \"John Campbell\": \"412-896-6415\"\n            }\nprint(phonebook)",
      "metadata": {
        "trusted": true
      },
      "outputs": [
        {
          "name": "stdout",
          "text": "{'Noah Morse': '412-123-4567', 'Mike Burch': '919-456-7890', 'John Campbell': '412-896-6415'}\n",
          "output_type": "stream"
        }
      ],
      "execution_count": 43
    },
    {
      "cell_type": "code",
      "source": "# We're able to refer to VALUES in the dictionaries based off their unique keys\n\nprint(phonebook[\"John Campbell\"])",
      "metadata": {
        "trusted": true
      },
      "outputs": [
        {
          "name": "stdout",
          "text": "412-896-6415\n",
          "output_type": "stream"
        }
      ],
      "execution_count": 41
    },
    {
      "cell_type": "code",
      "source": "# We can ADD values to a dictionary\n\nphonebook[\"Justin Fields\"] = \"412-555-0199\"\nprint(phonebook)",
      "metadata": {
        "trusted": true
      },
      "outputs": [
        {
          "name": "stdout",
          "text": "{'Noah Morse': '412-123-4567', 'Mike Burch': '919-456-7890', 'John Campbell': '412-896-6415', 'Justin Fields': '412-555-0199'}\n",
          "output_type": "stream"
        }
      ],
      "execution_count": 42
    },
    {
      "cell_type": "code",
      "source": "# We can also REMOVE values from a dictionary\nphonebook.pop(\"John Campbell\")\nprint(phonebook)",
      "metadata": {
        "trusted": true
      },
      "outputs": [],
      "execution_count": null
    },
    {
      "cell_type": "code",
      "source": "# Values are MUTABLE\n# Values do not have to be of the same type\n\nphonebook[\"Noah Morse\"] = [\"412-123-4567\", \"724-765-4321\"]\nprint(phonebook)",
      "metadata": {
        "trusted": true
      },
      "outputs": [],
      "execution_count": null
    },
    {
      "cell_type": "code",
      "source": "# We can NEST dictionaries inside of each other \nphonebook[\"Noah Morse\"] = {\"numbers\": [\"412-123-4567\", \"724-765-4321\"], \"address\": \"123 Main Street\", \"age\": 28}\nimport pprint\n\npprint.pprint(phonebook)",
      "metadata": {
        "trusted": true
      },
      "outputs": [
        {
          "name": "stdout",
          "text": "{'John Campbell': '412-896-6415',\n 'Mike Burch': '919-456-7890',\n 'Noah Morse': {'address': '123 Main Street',\n                'age': 28,\n                'numbers': ['412-123-4567', '724-765-4321']}}\n",
          "output_type": "stream"
        }
      ],
      "execution_count": 44
    },
    {
      "cell_type": "code",
      "source": "# Python will read in JSON as dictionaries\nphonebook = '''{\"John Doe\": {\"phone\": \"555-1234\", \"email\": \"john.doe@example.com\", \"address\": {\"street\": \"123 Main St\", \"city\": \"Anytown\", \"state\": \"CA\", \"zip\": \"12345\"}}, \"Jane Smith\": {\"phone\": \"555-5678\", \"email\": \"jane.smith@example.com\", \"address\": {\"street\": \"456 Elm St\", \"city\": \"Othertown\", \"state\": \"NY\", \"zip\": \"67890\"}}, \"Bob Johnson\": {\"phone\": \"555-8765\", \"email\": \"bob.johnson@example.com\", \"address\": {\"street\": \"789 Oak St\", \"city\": \"Sometown\", \"state\": \"TX\", \"zip\": \"54321\"}}}'''\nprint(type(phonebook))",
      "metadata": {
        "trusted": true
      },
      "outputs": [
        {
          "name": "stdout",
          "text": "<class 'str'>\n",
          "output_type": "stream"
        }
      ],
      "execution_count": 46
    },
    {
      "cell_type": "code",
      "source": "# We can convert our string to a dictionary with the json library\n\nimport json\njson_phonebook = json.loads(phonebook)\nprint(type(json_phonebook))\npprint.pprint(json_phonebook)",
      "metadata": {
        "trusted": true
      },
      "outputs": [
        {
          "name": "stdout",
          "text": "<class 'dict'>\n{'Bob Johnson': {'address': {'city': 'Sometown',\n                             'state': 'TX',\n                             'street': '789 Oak St',\n                             'zip': '54321'},\n                 'email': 'bob.johnson@example.com',\n                 'phone': '555-8765'},\n 'Jane Smith': {'address': {'city': 'Othertown',\n                            'state': 'NY',\n                            'street': '456 Elm St',\n                            'zip': '67890'},\n                'email': 'jane.smith@example.com',\n                'phone': '555-5678'},\n 'John Doe': {'address': {'city': 'Anytown',\n                          'state': 'CA',\n                          'street': '123 Main St',\n                          'zip': '12345'},\n              'email': 'john.doe@example.com',\n              'phone': '555-1234'}}\n",
          "output_type": "stream"
        }
      ],
      "execution_count": 47
    },
    {
      "cell_type": "code",
      "source": "# This lets us grab the specific information we need, more easily\njane_state = json_phonebook[\"Jane Smith\"][\"address\"][\"state\"]\nprint(jane_state)",
      "metadata": {
        "trusted": true
      },
      "outputs": [],
      "execution_count": null
    },
    {
      "cell_type": "code",
      "source": "import requests\n\nurl = \"https://httpbin.org/get\"\n\nr = requests.get(url)\n\nprint(r)\nresponse = r.json()\nprint(response)",
      "metadata": {
        "trusted": true
      },
      "outputs": [
        {
          "name": "stdout",
          "text": "<Response [200]>\n{'args': {}, 'headers': {'Accept': '*/*', 'Accept-Encoding': 'gzip, deflate, br, zstd', 'Accept-Language': 'en-US,en;q=0.9', 'Host': 'httpbin.org', 'Origin': 'https://jupyter.org', 'Priority': 'u=0, i', 'Referer': 'https://jupyter.org/', 'Sec-Fetch-Dest': 'empty', 'Sec-Fetch-Mode': 'cors', 'Sec-Fetch-Site': 'cross-site', 'User-Agent': 'Mozilla/5.0 (Macintosh; Intel Mac OS X 10_15_7) AppleWebKit/537.36 (KHTML, like Gecko) Chrome/128.0.0.0 Safari/537.36', 'X-Amzn-Trace-Id': 'Root=1-6712969f-012f3f540cf9b2c238a390c9'}, 'origin': '96.236.227.104', 'url': 'https://httpbin.org/get'}\n",
          "output_type": "stream"
        }
      ],
      "execution_count": 48
    },
    {
      "cell_type": "code",
      "source": "import json\nurl = \"https://httpbin.org/post\"\nr = requests.post(url, data=phonebook)\nresponse = r.json()\npprint.pprint(response)",
      "metadata": {
        "trusted": true
      },
      "outputs": [],
      "execution_count": null
    },
    {
      "cell_type": "code",
      "source": "",
      "metadata": {
        "trusted": true
      },
      "outputs": [],
      "execution_count": null
    },
    {
      "cell_type": "code",
      "source": "",
      "metadata": {
        "trusted": true
      },
      "outputs": [],
      "execution_count": null
    },
    {
      "cell_type": "code",
      "source": "",
      "metadata": {
        "trusted": true
      },
      "outputs": [],
      "execution_count": null
    },
    {
      "cell_type": "code",
      "source": "",
      "metadata": {
        "trusted": true
      },
      "outputs": [],
      "execution_count": null
    },
    {
      "cell_type": "code",
      "source": "",
      "metadata": {
        "trusted": true
      },
      "outputs": [],
      "execution_count": null
    }
  ]
}