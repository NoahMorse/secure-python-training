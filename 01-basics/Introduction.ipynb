{
  "metadata": {
    "kernelspec": {
      "name": "python",
      "display_name": "Python (Pyodide)",
      "language": "python"
    },
    "language_info": {
      "codemirror_mode": {
        "name": "python",
        "version": 3
      },
      "file_extension": ".py",
      "mimetype": "text/x-python",
      "name": "python",
      "nbconvert_exporter": "python",
      "pygments_lexer": "ipython3",
      "version": "3.8"
    }
  },
  "nbformat_minor": 4,
  "nbformat": 4,
  "cells": [
    {
      "cell_type": "code",
      "source": "# Numerical Values",
      "metadata": {
        "trusted": true
      },
      "outputs": [],
      "execution_count": null
    },
    {
      "cell_type": "code",
      "source": "n = 5\nprint(type(n))\nprint(n)",
      "metadata": {
        "trusted": true
      },
      "outputs": [
        {
          "name": "stdout",
          "text": "<class 'int'>\n5\n",
          "output_type": "stream"
        }
      ],
      "execution_count": 159
    },
    {
      "cell_type": "code",
      "source": "n = n + 1\nn = n - 2\nn = n * 3\nn = n / 2\nprint(n)",
      "metadata": {
        "trusted": true
      },
      "outputs": [
        {
          "name": "stdout",
          "text": "6.0\n",
          "output_type": "stream"
        }
      ],
      "execution_count": 160
    },
    {
      "cell_type": "code",
      "source": "# Exponent\nn = n ** 2\nprint(n)\n\n# Integer division (floor division)\nn = n // 5\nprint(n)\n\n# Modulus\nn = n % 3\nprint(n)",
      "metadata": {
        "trusted": true
      },
      "outputs": [],
      "execution_count": null
    },
    {
      "cell_type": "code",
      "source": "n = int(n)\nn = n + 1\nn += 1\nprint(n)\n\nn -= 2\nn = n - 2\nprint(n)",
      "metadata": {
        "trusted": true
      },
      "outputs": [],
      "execution_count": null
    },
    {
      "cell_type": "code",
      "source": "# Strings\n\nusername = \"Noah\"\nprint(username)\nprint(type(username))",
      "metadata": {
        "trusted": true
      },
      "outputs": [],
      "execution_count": null
    },
    {
      "cell_type": "code",
      "source": "# Printing strings\nprint(\"My name is\", username)\n\nprint(f\"My name is {username}\")\n\nprint(\"My name is %s\" % username)\n\ngreeting = \"My name is \" + username\nprint(greeting)",
      "metadata": {
        "trusted": true
      },
      "outputs": [],
      "execution_count": null
    },
    {
      "cell_type": "code",
      "source": "# Ints and strings\nage = 28\nprint(age)\n\ngreeting = greeting + \" and I am \" + age + \" years old\"\nprint(greeting)",
      "metadata": {
        "trusted": true
      },
      "outputs": [],
      "execution_count": null
    },
    {
      "cell_type": "code",
      "source": "greeting = greeting + \" and I am \" + str(age) + \" years old\"\nprint(greeting)",
      "metadata": {
        "trusted": true
      },
      "outputs": [],
      "execution_count": null
    },
    {
      "cell_type": "code",
      "source": "# String Manipulation\nemployees = \"John,Joe,Jim,James,Jack,John\"\nprint(\"Employee string is \" + str(len(employees)) + \" characters long\")\n\nprint(employees[0])\nprint(employees[3])\n\n# First integer is inclusive, second one is exclusive\nprint(employees[0:4])",
      "metadata": {
        "trusted": true
      },
      "outputs": [],
      "execution_count": null
    },
    {
      "cell_type": "code",
      "source": "print(employees[-1])\nprint(employees[0:-1])\n\nprint(employees[0:])\n\nprint(employees[0::2])\n",
      "metadata": {
        "trusted": true
      },
      "outputs": [],
      "execution_count": null
    },
    {
      "cell_type": "code",
      "source": "# Lists\nemployee_list = employees.split(\",\")\nprint(employee_list)\n",
      "metadata": {
        "trusted": true
      },
      "outputs": [],
      "execution_count": null
    },
    {
      "cell_type": "code",
      "source": "print(employee_list[0])\nprint(employee_list[-2])\n\n\nprint(employee_list.index(\"Jim\"))",
      "metadata": {
        "trusted": true
      },
      "outputs": [],
      "execution_count": null
    },
    {
      "cell_type": "code",
      "source": "employee_list += (\"Noah\")\nprint(employee_list)",
      "metadata": {
        "trusted": true
      },
      "outputs": [],
      "execution_count": null
    },
    {
      "cell_type": "code",
      "source": "employee_list = employees.split(\",\")\nprint(employee_list)",
      "metadata": {
        "trusted": true
      },
      "outputs": [],
      "execution_count": null
    },
    {
      "cell_type": "code",
      "source": "employee_list.append(\"Noah\")\nprint(employee_list)",
      "metadata": {
        "trusted": true
      },
      "outputs": [],
      "execution_count": null
    },
    {
      "cell_type": "code",
      "source": "employee_list.pop()\nprint(employee_list)",
      "metadata": {
        "trusted": true
      },
      "outputs": [],
      "execution_count": null
    },
    {
      "cell_type": "code",
      "source": "for name in employee_list:\n    print(name)",
      "metadata": {
        "trusted": true
      },
      "outputs": [],
      "execution_count": null
    },
    {
      "cell_type": "code",
      "source": "# Tuples are immutable lists\nemployee_tuple = tuple(employee_list)\nprint(employee_tuple)\nprint(type(employee_tuple))",
      "metadata": {
        "trusted": true
      },
      "outputs": [],
      "execution_count": null
    },
    {
      "cell_type": "code",
      "source": "# How not to do it \nnew_employee_tuple = (employee_tuple, \"Brittany\")\nprint(new_employee_tuple)",
      "metadata": {
        "trusted": true
      },
      "outputs": [],
      "execution_count": null
    },
    {
      "cell_type": "code",
      "source": "# How to do it\nnew_employee_tuple = (*employee_tuple, \"Brittany\")\nprint(new_employee_tuple)",
      "metadata": {
        "trusted": true
      },
      "outputs": [],
      "execution_count": null
    },
    {
      "cell_type": "code",
      "source": "# Sets must have unique values\nemployee_set = set(employee_list)\nprint(employee_set)",
      "metadata": {
        "trusted": true
      },
      "outputs": [],
      "execution_count": null
    },
    {
      "cell_type": "code",
      "source": "# Instantiating a new set\npotential_dog_names = {\"Daisy\", \"Bella\", \"Kimbo\", \"Thumper\", \"Rocky\", \"Daisy\"}\nprint(potential_dog_names)",
      "metadata": {
        "trusted": true
      },
      "outputs": [],
      "execution_count": null
    },
    {
      "cell_type": "code",
      "source": "",
      "metadata": {
        "trusted": true
      },
      "outputs": [],
      "execution_count": null
    }
  ]
}