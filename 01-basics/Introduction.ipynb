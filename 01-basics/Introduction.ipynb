{
  "cells": [
    {
      "cell_type": "code",
      "execution_count": null,
      "metadata": {
        "trusted": true
      },
      "outputs": [],
      "source": [
        "# Numerical Values"
      ]
    },
    {
      "cell_type": "code",
      "execution_count": null,
      "metadata": {
        "trusted": true
      },
      "outputs": [],
      "source": [
        "n = 5\n",
        "print(type(n))\n",
        "print(n)"
      ]
    },
    {
      "cell_type": "code",
      "execution_count": null,
      "metadata": {
        "trusted": true
      },
      "outputs": [
        {
          "ename": "",
          "evalue": "",
          "output_type": "error",
          "traceback": [
            "\u001b[1;31mRunning cells with 'Python 3.11.10' requires the ipykernel package.\n",
            "\u001b[1;31mRun the following command to install 'ipykernel' into the Python environment. \n",
            "\u001b[1;31mCommand: '/opt/homebrew/bin/python3.11 -m pip install ipykernel -U --user --force-reinstall'"
          ]
        }
      ],
      "source": [
        "n = n + 1\n",
        "n = n - 2\n",
        "n = n * 3\n",
        "n = n / 2\n",
        "print(n)"
      ]
    },
    {
      "cell_type": "code",
      "execution_count": null,
      "metadata": {
        "trusted": true
      },
      "outputs": [],
      "source": [
        "# Exponent\n",
        "n = n ** 2\n",
        "print(n)\n",
        "\n",
        "# Integer division (floor division)\n",
        "n = n // 5\n",
        "print(n)\n",
        "\n",
        "# Modulus\n",
        "n = n % 3\n",
        "print(n)"
      ]
    },
    {
      "cell_type": "code",
      "execution_count": null,
      "metadata": {
        "trusted": true
      },
      "outputs": [],
      "source": [
        "n = int(n)\n",
        "n = n + 1\n",
        "n += 1\n",
        "print(n)\n",
        "\n",
        "n -= 2\n",
        "n = n - 2\n",
        "print(n)"
      ]
    },
    {
      "cell_type": "code",
      "execution_count": null,
      "metadata": {
        "trusted": true
      },
      "outputs": [],
      "source": [
        "# Strings\n",
        "\n",
        "username = \"Noah\"\n",
        "print(username)\n",
        "print(type(username))"
      ]
    },
    {
      "cell_type": "code",
      "execution_count": null,
      "metadata": {
        "trusted": true
      },
      "outputs": [],
      "source": [
        "# Printing strings\n",
        "print(\"My name is\", username)\n",
        "\n",
        "print(f\"My name is {username}\")\n",
        "\n",
        "print(\"My name is %s\" % username)\n",
        "\n",
        "greeting = \"My name is \" + username\n",
        "print(greeting)"
      ]
    },
    {
      "cell_type": "code",
      "execution_count": null,
      "metadata": {
        "trusted": true
      },
      "outputs": [],
      "source": [
        "# Ints and strings\n",
        "age = 28\n",
        "print(age)\n",
        "\n",
        "greeting = greeting + \" and I am \" + age + \" years old\"\n",
        "print(greeting)"
      ]
    },
    {
      "cell_type": "code",
      "execution_count": null,
      "metadata": {
        "trusted": true
      },
      "outputs": [],
      "source": [
        "greeting = greeting + \" and I am \" + str(age) + \" years old\"\n",
        "print(greeting)"
      ]
    },
    {
      "cell_type": "code",
      "execution_count": null,
      "metadata": {
        "trusted": true
      },
      "outputs": [],
      "source": [
        "# String Manipulation\n",
        "employees = \"John,Joe,Jim,James,Jack,John\"\n",
        "print(\"Employee string is \" + str(len(employees)) + \" characters long\")\n",
        "\n",
        "print(employees[0])\n",
        "print(employees[3])\n",
        "\n",
        "# First integer is inclusive, second one is exclusive\n",
        "print(employees[0:4])"
      ]
    },
    {
      "cell_type": "code",
      "execution_count": null,
      "metadata": {
        "trusted": true
      },
      "outputs": [],
      "source": [
        "print(employees[-1])\n",
        "print(employees[0:-1])\n",
        "\n",
        "print(employees[0:])\n",
        "\n",
        "print(employees[0::2])\n"
      ]
    },
    {
      "cell_type": "code",
      "execution_count": null,
      "metadata": {
        "trusted": true
      },
      "outputs": [],
      "source": [
        "# Lists\n",
        "employee_list = employees.split(\",\")\n",
        "print(employee_list)\n"
      ]
    },
    {
      "cell_type": "code",
      "execution_count": null,
      "metadata": {
        "trusted": true
      },
      "outputs": [],
      "source": [
        "print(employee_list[0])\n",
        "print(employee_list[-2])\n",
        "\n",
        "\n",
        "print(employee_list.index(\"Jim\"))"
      ]
    },
    {
      "cell_type": "code",
      "execution_count": null,
      "metadata": {
        "trusted": true
      },
      "outputs": [],
      "source": [
        "employee_list += (\"Noah\")\n",
        "print(employee_list)"
      ]
    },
    {
      "cell_type": "code",
      "execution_count": null,
      "metadata": {
        "trusted": true
      },
      "outputs": [],
      "source": [
        "employee_list = employees.split(\",\")\n",
        "print(employee_list)"
      ]
    },
    {
      "cell_type": "code",
      "execution_count": null,
      "metadata": {
        "trusted": true
      },
      "outputs": [],
      "source": [
        "employee_list.append(\"Noah\")\n",
        "print(employee_list)"
      ]
    },
    {
      "cell_type": "code",
      "execution_count": null,
      "metadata": {
        "trusted": true
      },
      "outputs": [],
      "source": [
        "employee_list.pop()\n",
        "print(employee_list)"
      ]
    },
    {
      "cell_type": "code",
      "execution_count": null,
      "metadata": {
        "trusted": true
      },
      "outputs": [],
      "source": [
        "for name in employee_list:\n",
        "    print(name)"
      ]
    },
    {
      "cell_type": "code",
      "execution_count": null,
      "metadata": {
        "trusted": true
      },
      "outputs": [],
      "source": [
        "# Tuples are immutable lists\n",
        "employee_tuple = tuple(employee_list)\n",
        "print(employee_tuple)\n",
        "print(type(employee_tuple))"
      ]
    },
    {
      "cell_type": "code",
      "execution_count": null,
      "metadata": {
        "trusted": true
      },
      "outputs": [],
      "source": [
        "# How not to do it \n",
        "new_employee_tuple = (employee_tuple, \"Brittany\")\n",
        "print(new_employee_tuple)"
      ]
    },
    {
      "cell_type": "code",
      "execution_count": null,
      "metadata": {
        "trusted": true
      },
      "outputs": [],
      "source": [
        "# How to do it\n",
        "new_employee_tuple = (*employee_tuple, \"Brittany\")\n",
        "print(new_employee_tuple)"
      ]
    },
    {
      "cell_type": "code",
      "execution_count": null,
      "metadata": {
        "trusted": true
      },
      "outputs": [],
      "source": [
        "# Sets must have unique values\n",
        "employee_set = set(employee_list)\n",
        "print(employee_set)"
      ]
    },
    {
      "cell_type": "code",
      "execution_count": null,
      "metadata": {
        "trusted": true
      },
      "outputs": [],
      "source": [
        "# Instantiating a new set\n",
        "potential_dog_names = {\"Daisy\", \"Bella\", \"Kimbo\", \"Thumper\", \"Rocky\", \"Daisy\"}\n",
        "print(potential_dog_names)"
      ]
    },
    {
      "cell_type": "code",
      "execution_count": null,
      "metadata": {
        "trusted": true
      },
      "outputs": [],
      "source": []
    }
  ],
  "metadata": {
    "kernelspec": {
      "display_name": "Python 3",
      "language": "python",
      "name": "python3"
    },
    "language_info": {
      "codemirror_mode": {
        "name": "python",
        "version": 3
      },
      "file_extension": ".py",
      "mimetype": "text/x-python",
      "name": "python",
      "nbconvert_exporter": "python",
      "pygments_lexer": "ipython3",
      "version": "3.11.10"
    }
  },
  "nbformat": 4,
  "nbformat_minor": 4
}
