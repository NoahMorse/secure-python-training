{
 "cells": [
  {
   "cell_type": "code",
   "execution_count": null,
   "metadata": {
    "trusted": true
   },
   "outputs": [],
   "source": [
    "# Python can evaluate Expressions\n",
    "2 + 2"
   ]
  },
  {
   "cell_type": "code",
   "execution_count": 1,
   "metadata": {},
   "outputs": [
    {
     "data": {
      "text/plain": [
       "4"
      ]
     },
     "execution_count": 1,
     "metadata": {},
     "output_type": "execute_result"
    }
   ],
   "source": [
    "# Data can be saved to Variables\n",
    "a = 2\n",
    "b = a + a\n",
    "b"
   ]
  },
  {
   "cell_type": "code",
   "execution_count": 2,
   "metadata": {},
   "outputs": [
    {
     "data": {
      "text/plain": [
       "3"
      ]
     },
     "execution_count": 2,
     "metadata": {},
     "output_type": "execute_result"
    }
   ],
   "source": [
    "# Variables can change their value\n",
    "a = a + 1\n",
    "a"
   ]
  },
  {
   "cell_type": "code",
   "execution_count": 3,
   "metadata": {},
   "outputs": [
    {
     "data": {
      "text/plain": [
       "'Noah'"
      ]
     },
     "execution_count": 3,
     "metadata": {},
     "output_type": "execute_result"
    }
   ],
   "source": [
    "# Variables can hold different types of data\n",
    "name = \"Noah\"\n",
    "name"
   ]
  },
  {
   "cell_type": "code",
   "execution_count": 4,
   "metadata": {},
   "outputs": [
    {
     "name": "stdout",
     "output_type": "stream",
     "text": [
      "Hello World\n",
      "Noah\n",
      "3\n"
     ]
    }
   ],
   "source": [
    "# Python has built in functions for common operations\n",
    "\n",
    "# We can print strings\n",
    "print(\"Hello World\")\n",
    "\n",
    "# We can print variables\n",
    "print(name)\n",
    "\n",
    "# We can print numbers\n",
    "print(a)"
   ]
  },
  {
   "cell_type": "code",
   "execution_count": 5,
   "metadata": {},
   "outputs": [
    {
     "name": "stdout",
     "output_type": "stream",
     "text": [
      "meters\n"
     ]
    }
   ],
   "source": [
    "# There are some rules and guidelines around variable names\n",
    "\n",
    "# Variables can contain letters, numbers, and underscores\n",
    "months_with_31_days = 7\n",
    "\n",
    "# Variables must start with a letter or an underscore\n",
    "unit_of_measurement = \"meters\"\n",
    "print(unit_of_measurement)\n"
   ]
  },
  {
   "cell_type": "code",
   "execution_count": 6,
   "metadata": {},
   "outputs": [
    {
     "name": "stdout",
     "output_type": "stream",
     "text": [
      "something\n",
      "snake_case camelCase\n"
     ]
    }
   ],
   "source": [
    "# Variables have some guidelines\n",
    "\n",
    "# Variables starting with an underscore are usually for internal use\n",
    "_attribute = \"something\"\n",
    "print(_attribute)\n",
    "\n",
    "# Variables can be snake_case or camelCase\n",
    "snake_case = \"snake_case\"\n",
    "camelCase = \"camelCase\"\n",
    "print(snake_case, camelCase)"
   ]
  },
  {
   "cell_type": "code",
   "execution_count": 7,
   "metadata": {
    "trusted": true
   },
   "outputs": [
    {
     "name": "stdout",
     "output_type": "stream",
     "text": [
      "<class 'int'>\n",
      "5\n",
      "<class 'str'>\n",
      "Noah\n"
     ]
    }
   ],
   "source": [
    "# Every variable has a type\n",
    "n = 5\n",
    "print(type(n))\n",
    "print(n)\n",
    "\n",
    "print(type(name))\n",
    "print(name)"
   ]
  },
  {
   "cell_type": "code",
   "execution_count": null,
   "metadata": {
    "trusted": true
   },
   "outputs": [],
   "source": [
    "# Integers are whole numbers\n",
    "n = 5\n",
    "n = n + 4\n",
    "n = n - 2\n",
    "n = n * 3\n",
    "print(n)\n",
    "print(type(n))"
   ]
  },
  {
   "cell_type": "code",
   "execution_count": null,
   "metadata": {},
   "outputs": [],
   "source": [
    "# Floats contain a decimal point\n",
    "n = n / 2\n",
    "print(n)\n",
    "print(type(n))"
   ]
  },
  {
   "cell_type": "code",
   "execution_count": null,
   "metadata": {
    "trusted": true
   },
   "outputs": [],
   "source": [
    "# We can do different operations on numbers\n",
    "n = 6\n",
    "n = n ** 2\n",
    "print(n)\n",
    "\n",
    "# Integer division (floor division)\n",
    "n = n // 10\n",
    "print(n)\n",
    "\n",
    "# Modulus is the remainder function \n",
    "n = 36 % 10\n",
    "print(n)"
   ]
  },
  {
   "cell_type": "code",
   "execution_count": null,
   "metadata": {
    "trusted": true
   },
   "outputs": [],
   "source": [
    "# We can incremenet variables\n",
    "n = 1\n",
    "n = n + 1\n",
    "n += 1 # Augmented Assignment operator\n",
    "print(n)\n",
    "\n",
    "# We can decrement variables too\n",
    "n -= 2\n",
    "n = n - 2\n",
    "print(n)"
   ]
  },
  {
   "cell_type": "code",
   "execution_count": null,
   "metadata": {},
   "outputs": [],
   "source": [
    "# Write code that will calculate the area of a circle. Print the result\n",
    "# Hint: The formula for the area of a circle is pi * r^2\n",
    "\n",
    "pi = 3.14159\n",
    "diameter = 5\n",
    "\n"
   ]
  },
  {
   "cell_type": "code",
   "execution_count": null,
   "metadata": {
    "trusted": true
   },
   "outputs": [],
   "source": [
    "# Strings Introduction\n",
    "username = \"noah\"\n",
    "print(username)\n",
    "print(type(username))"
   ]
  },
  {
   "cell_type": "code",
   "execution_count": null,
   "metadata": {},
   "outputs": [],
   "source": [
    "# Concatenation\n",
    "fullname = username + \" Morse\"\n",
    "print(fullname)"
   ]
  },
  {
   "cell_type": "code",
   "execution_count": null,
   "metadata": {},
   "outputs": [],
   "source": [
    "# String inputs\n",
    "username = input(\"Enter your name: \")\n",
    "print(username)"
   ]
  },
  {
   "cell_type": "code",
   "execution_count": null,
   "metadata": {
    "trusted": true
   },
   "outputs": [],
   "source": [
    "# Printing strings\n",
    "\n",
    "# Printing multiple values\n",
    "print(\"My name is\", username)\n",
    "\n",
    "# Concatenation\n",
    "print(\"My name is \" + username)\n",
    "\n",
    "# f-strings\n",
    "print(f\"My name is {username}\")\n",
    "\n",
    "# %-formatting\n",
    "print(\"My name is %s\" % username)\n",
    "\n",
    "# Str.format()\n",
    "print(\"My name is {}\".format(username))\n",
    "\n"
   ]
  },
  {
   "cell_type": "code",
   "execution_count": 8,
   "metadata": {
    "trusted": true
   },
   "outputs": [
    {
     "name": "stdout",
     "output_type": "stream",
     "text": [
      "28\n"
     ]
    },
    {
     "ename": "NameError",
     "evalue": "name 'greeting' is not defined",
     "output_type": "error",
     "traceback": [
      "\u001b[0;31m---------------------------------------------------------------------------\u001b[0m",
      "\u001b[0;31mNameError\u001b[0m                                 Traceback (most recent call last)",
      "Cell \u001b[0;32mIn[8], line 5\u001b[0m\n\u001b[1;32m      2\u001b[0m age \u001b[38;5;241m=\u001b[39m \u001b[38;5;241m28\u001b[39m\n\u001b[1;32m      3\u001b[0m \u001b[38;5;28mprint\u001b[39m(age)\n\u001b[0;32m----> 5\u001b[0m greeting \u001b[38;5;241m=\u001b[39m \u001b[43mgreeting\u001b[49m \u001b[38;5;241m+\u001b[39m \u001b[38;5;124m\"\u001b[39m\u001b[38;5;124m and I am \u001b[39m\u001b[38;5;124m\"\u001b[39m \u001b[38;5;241m+\u001b[39m age \u001b[38;5;241m+\u001b[39m \u001b[38;5;124m\"\u001b[39m\u001b[38;5;124m years old\u001b[39m\u001b[38;5;124m\"\u001b[39m\n\u001b[1;32m      6\u001b[0m \u001b[38;5;28mprint\u001b[39m(greeting)\n",
      "\u001b[0;31mNameError\u001b[0m: name 'greeting' is not defined"
     ]
    }
   ],
   "source": [
    "# Combining ints and strings\n",
    "age = 28\n",
    "print(age)\n",
    "\n",
    "greeting = greeting + \" and I am \" + age + \" years old\"\n",
    "print(greeting)"
   ]
  },
  {
   "cell_type": "code",
   "execution_count": 9,
   "metadata": {},
   "outputs": [
    {
     "name": "stdout",
     "output_type": "stream",
     "text": [
      "1\n",
      "<class 'int'>\n",
      "1\n",
      "<class 'str'>\n",
      "1.0\n",
      "<class 'float'>\n"
     ]
    }
   ],
   "source": [
    "# There are built in functions to convert data types\n",
    "n = int(1)\n",
    "print(n)\n",
    "print(type(n))\n",
    "\n",
    "n = str(n)\n",
    "print(n)\n",
    "print(type(n))\n",
    "\n",
    "n = float(n)\n",
    "print(n)\n",
    "print(type(n))"
   ]
  },
  {
   "cell_type": "code",
   "execution_count": null,
   "metadata": {
    "trusted": true
   },
   "outputs": [],
   "source": [
    "# We can convert the integer to a string\n",
    "greeting = greeting + \" and I am \" + str(age) + \" years old\"\n",
    "print(greeting)"
   ]
  },
  {
   "cell_type": "code",
   "execution_count": 10,
   "metadata": {},
   "outputs": [
    {
     "ename": "SyntaxError",
     "evalue": "invalid syntax. Perhaps you forgot a comma? (4049949321.py, line 3)",
     "output_type": "error",
     "traceback": [
      "\u001b[0;36m  Cell \u001b[0;32mIn[10], line 3\u001b[0;36m\u001b[0m\n\u001b[0;31m    print(\"He said: \"Hello World\"\")\u001b[0m\n\u001b[0m          ^\u001b[0m\n\u001b[0;31mSyntaxError\u001b[0m\u001b[0;31m:\u001b[0m invalid syntax. Perhaps you forgot a comma?\n"
     ]
    }
   ],
   "source": [
    "# Printing special characters\n",
    "\n",
    "print(\"He said: \"Hello World\"\")\n"
   ]
  },
  {
   "cell_type": "code",
   "execution_count": null,
   "metadata": {},
   "outputs": [],
   "source": [
    "# We can change the types of quotes we use\n",
    "print('He said \"Hello World\"')\n",
    "\n",
    "# We can use escape characters\n",
    "print(\"He said \\\"Hello World\\\"\")\n"
   ]
  },
  {
   "cell_type": "code",
   "execution_count": null,
   "metadata": {},
   "outputs": [],
   "source": [
    "# Escape characters are a special character, starting with a backslash\n",
    "print(\"This is a new\\nline\")\n",
    "print(\"This is a\\t tab\\t\")\n",
    "print(\"This is a backslash \\\\\")"
   ]
  },
  {
   "cell_type": "code",
   "execution_count": null,
   "metadata": {},
   "outputs": [],
   "source": [
    "# Can be useful for pilepaths\n",
    "filepath = \"C:\\\\Users\\\\Noah\\\\Documents\\\\file.txt\"\n",
    "print(filepath)"
   ]
  },
  {
   "cell_type": "code",
   "execution_count": 11,
   "metadata": {},
   "outputs": [
    {
     "name": "stdout",
     "output_type": "stream",
     "text": [
      "C:\\Users\\Noah\\Documents\\file.txt\n"
     ]
    }
   ],
   "source": [
    "# Raw strings can also be used\n",
    "print(r\"C:\\Users\\Noah\\Documents\\file.txt\")\n"
   ]
  },
  {
   "cell_type": "code",
   "execution_count": null,
   "metadata": {},
   "outputs": [],
   "source": []
  }
 ],
 "metadata": {
  "kernelspec": {
   "display_name": ".venv",
   "language": "python",
   "name": "python3"
  },
  "language_info": {
   "codemirror_mode": {
    "name": "ipython",
    "version": 3
   },
   "file_extension": ".py",
   "mimetype": "text/x-python",
   "name": "python",
   "nbconvert_exporter": "python",
   "pygments_lexer": "ipython3",
   "version": "3.13.0"
  }
 },
 "nbformat": 4,
 "nbformat_minor": 4
}
