{
 "cells": [
  {
   "cell_type": "code",
   "execution_count": 1,
   "metadata": {},
   "outputs": [
    {
     "name": "stdout",
     "output_type": "stream",
     "text": [
      "[12, 41, 15, 17, 33]\n",
      "<class 'list'>\n"
     ]
    }
   ],
   "source": [
    "# A list is a Python object that contains multiple elements\n",
    "lucky_numbers = [12, 41, 15, 17, 33]\n",
    "print(lucky_numbers)\n",
    "print(type(lucky_numbers))"
   ]
  },
  {
   "cell_type": "code",
   "execution_count": 2,
   "metadata": {},
   "outputs": [
    {
     "name": "stdout",
     "output_type": "stream",
     "text": [
      "[12, 'hello', 3.14, True]\n"
     ]
    }
   ],
   "source": [
    "# Lists can contain different data types\n",
    "variable_list = [12, \"hello\", 3.14, True]\n",
    "print(variable_list)"
   ]
  },
  {
   "cell_type": "code",
   "execution_count": null,
   "metadata": {},
   "outputs": [
    {
     "name": "stdout",
     "output_type": "stream",
     "text": [
      "['a', 'b', 'c', 'd']\n"
     ]
    }
   ],
   "source": [
    "# We can make a list with the list() function\n",
    "letters = list(\"abcd\")\n",
    "print(letters)\n"
   ]
  },
  {
   "cell_type": "code",
   "execution_count": 4,
   "metadata": {},
   "outputs": [
    {
     "name": "stdout",
     "output_type": "stream",
     "text": [
      "['a', 'b', 'c', 'd', 'a', 'b', 'c', 'd', 'a', 'b', 'c', 'd']\n"
     ]
    }
   ],
   "source": [
    "# We can multiply lists with the repetition operator\n",
    "multiple_letters = letters * 3\n",
    "print(multiple_letters)"
   ]
  },
  {
   "cell_type": "code",
   "execution_count": 9,
   "metadata": {},
   "outputs": [
    {
     "name": "stdout",
     "output_type": "stream",
     "text": [
      "[1, 3, 5, 7, 9]\n"
     ]
    }
   ],
   "source": [
    "# We can combine lists with range\n",
    "numbers = list(range(1, 10, 2))\n",
    "print(numbers)"
   ]
  },
  {
   "cell_type": "code",
   "execution_count": 32,
   "metadata": {},
   "outputs": [
    {
     "name": "stdout",
     "output_type": "stream",
     "text": [
      "Alice\n",
      "Bob\n",
      "Eve\n",
      "\n"
     ]
    }
   ],
   "source": [
    "# We can index a list with a number\n",
    "names = [\"Alice\", \"Bob\", \"Eve\"]\n",
    "\n",
    "print(names[0])\n",
    "print(names[1])\n",
    "print(names[2])\n",
    "print()\n"
   ]
  },
  {
   "cell_type": "code",
   "execution_count": 16,
   "metadata": {},
   "outputs": [
    {
     "name": "stdout",
     "output_type": "stream",
     "text": [
      "Eve\n",
      "Bob\n",
      "Alice\n"
     ]
    }
   ],
   "source": [
    "# We can also do negative indexes\n",
    "print(names[-1])\n",
    "print(names[-2])\n",
    "print(names[-3])"
   ]
  },
  {
   "cell_type": "code",
   "execution_count": 34,
   "metadata": {},
   "outputs": [
    {
     "name": "stdout",
     "output_type": "stream",
     "text": [
      "['David', 'Bob', 'Eve']\n"
     ]
    }
   ],
   "source": [
    "# We can update an element with the index\n",
    "names[0] = \"David\"\n",
    "print(names)"
   ]
  },
  {
   "cell_type": "code",
   "execution_count": 68,
   "metadata": {},
   "outputs": [
    {
     "name": "stdout",
     "output_type": "stream",
     "text": [
      "['Alice', 'Bob', 'Eve', 'Joe', 'Charlie', 'Dan']\n"
     ]
    }
   ],
   "source": [
    "# We can combine lists\n",
    "names_1 = [\"Alice\", \"Bob\", \"Eve\"]\n",
    "names_2 = [\"Joe\", \"Charlie\", \"Dan\"]\n",
    "names = names_1 + names_2\n",
    "print(names)"
   ]
  },
  {
   "cell_type": "code",
   "execution_count": 69,
   "metadata": {},
   "outputs": [
    {
     "name": "stdout",
     "output_type": "stream",
     "text": [
      "6\n"
     ]
    }
   ],
   "source": [
    "# we can get the length of an array\n",
    "print(len(names))\n"
   ]
  },
  {
   "cell_type": "code",
   "execution_count": 31,
   "metadata": {},
   "outputs": [
    {
     "name": "stdout",
     "output_type": "stream",
     "text": [
      "0 Alice\n",
      "1 Bob\n",
      "2 Eve\n",
      "3 Joe\n",
      "4 Charlie\n",
      "5 Dan\n"
     ]
    }
   ],
   "source": [
    "# We an iterate over an array with a while loop\n",
    "index = 0\n",
    "while index < len(names):\n",
    "    print(index, names[index])\n",
    "    index += 1\n"
   ]
  },
  {
   "cell_type": "code",
   "execution_count": 28,
   "metadata": {},
   "outputs": [
    {
     "name": "stdout",
     "output_type": "stream",
     "text": [
      "Alice\n",
      "Bob\n",
      "Eve\n",
      "Joe\n",
      "Charlie\n",
      "Dan\n"
     ]
    }
   ],
   "source": [
    "# We an also use a for loop to iterate directly over the elements\n",
    "for name in names:\n",
    "    print(name)"
   ]
  },
  {
   "cell_type": "code",
   "execution_count": null,
   "metadata": {},
   "outputs": [
    {
     "name": "stdout",
     "output_type": "stream",
     "text": [
      "0 6\n",
      "1 7\n",
      "2 8\n",
      "3 9\n",
      "4 10\n",
      "[36, 49, 64, 81, 100]\n"
     ]
    }
   ],
   "source": [
    "# Sometimes, we want the index and the element, this is useful if we need to update the element\n",
    "numbers = [6, 7, 8, 9, 10]\n",
    "for i in range(len(numbers)):\n",
    "    print(i, numbers[i])\n",
    "    numbers[i] = numbers[i] ** 2\n",
    "print(numbers)"
   ]
  },
  {
   "cell_type": "code",
   "execution_count": 40,
   "metadata": {},
   "outputs": [
    {
     "name": "stdout",
     "output_type": "stream",
     "text": [
      "0 6\n",
      "1 7\n",
      "2 8\n",
      "3 9\n",
      "4 10\n",
      "[36, 49, 64, 81, 100]\n"
     ]
    }
   ],
   "source": [
    "# We can also use the enumerate function\n",
    "numbers = [6, 7, 8, 9, 10]\n",
    "for i, number in enumerate(numbers):\n",
    "    print(i, number)\n",
    "    numbers[i] = numbers[i] ** 2\n",
    "\n",
    "print(numbers)"
   ]
  },
  {
   "cell_type": "code",
   "execution_count": 43,
   "metadata": {},
   "outputs": [
    {
     "name": "stdout",
     "output_type": "stream",
     "text": [
      "1 2 3 \n",
      "4 5 6 \n",
      "7 8 9 \n"
     ]
    }
   ],
   "source": [
    "# We can have lists of lists\n",
    "matrices = [[1, 2, 3], [4, 5, 6], [7, 8, 9]]\n",
    "for matrix in matrices:\n",
    "    for i in matrix:\n",
    "        print(i, end=\" \")\n",
    "    print()"
   ]
  },
  {
   "cell_type": "code",
   "execution_count": 159,
   "metadata": {},
   "outputs": [
    {
     "name": "stdout",
     "output_type": "stream",
     "text": [
      "[5, 6, 7, 8, 9, 10]\n",
      "['Alice', 'Bob', 'Eve']\n"
     ]
    }
   ],
   "source": [
    "# We can sort lists\n",
    "\n",
    "#Ascending by default\n",
    "numbers = [10, 9, 8, 7, 6, 5]\n",
    "numbers.sort()\n",
    "\n",
    "#Alphabetic by default\n",
    "names = [\"Alice\", \"Bob\", \"Eve\"]\n",
    "names.sort()\n",
    "\n",
    "print(numbers)\n",
    "print(names)\n",
    "\n"
   ]
  },
  {
   "cell_type": "code",
   "execution_count": 160,
   "metadata": {},
   "outputs": [
    {
     "name": "stdout",
     "output_type": "stream",
     "text": [
      "[10, 9, 8, 7, 6, 5]\n",
      "['Eve', 'Bob', 'Alice']\n"
     ]
    }
   ],
   "source": [
    "numbers.sort(reverse=True)\n",
    "print(numbers)\n",
    "\n",
    "names.sort(reverse=True)\n",
    "print(names)"
   ]
  },
  {
   "cell_type": "code",
   "execution_count": null,
   "metadata": {},
   "outputs": [
    {
     "name": "stdout",
     "output_type": "stream",
     "text": [
      "['Alice', 'Bob', 'Eve', 'Joe', 'Charlie', 'Dan', 'Frank']\n",
      "['Alice', 'Bob', 'Grace', 'Eve', 'Joe', 'Charlie', 'Dan', 'Frank']\n",
      "['Alice', 'Bob', 'Grace', 'Joe', 'Charlie', 'Dan', 'Frank']\n",
      "['Alice', 'Grace', 'Joe', 'Charlie', 'Dan', 'Frank']\n",
      "['Alice', 'Grace', 'Joe', 'Charlie', 'Dan']\n",
      "['Dan', 'Charlie', 'Joe', 'Grace', 'Alice']\n",
      "[]\n"
     ]
    }
   ],
   "source": [
    "# Other list functions\n",
    "names = [\"Alice\", \"Bob\", \"Eve\", \"Joe\", \"Charlie\", \"Dan\"]\n",
    "names.append(\"Frank\")\n",
    "print(names)\n",
    "\n",
    "names.insert(2, \"Grace\")\n",
    "print(names)\n",
    "\n",
    "names.remove(\"Eve\")\n",
    "print(names)\n",
    "\n",
    "names.pop(1)\n",
    "print(names)\n",
    "\n",
    "names.pop()\n",
    "print(names)\n",
    "\n",
    "names.reverse()\n",
    "print(names)\n",
    "\n",
    "names.clear()\n",
    "print(names)\n"
   ]
  },
  {
   "cell_type": "code",
   "execution_count": null,
   "metadata": {},
   "outputs": [
    {
     "name": "stdout",
     "output_type": "stream",
     "text": [
      "[1, 2, 4]\n"
     ]
    }
   ],
   "source": [
    "# Copying a list (deep Copy)\n",
    "a = [1, 2, 3]\n",
    "b = a\n",
    "b[2] = 4\n",
    "\n",
    "print(a)"
   ]
  },
  {
   "cell_type": "code",
   "execution_count": null,
   "metadata": {},
   "outputs": [
    {
     "name": "stdout",
     "output_type": "stream",
     "text": [
      "[1, 2, 3]\n"
     ]
    }
   ],
   "source": [
    "c = [1, 2, 3]\n",
    "\n",
    "d = c.copy() # shallow copy\n",
    "# OR\n",
    "e = c[:]\n",
    "\n",
    "d[2] = 4\n",
    "e[0] = 5\n",
    "\n",
    "\n",
    "print(c)"
   ]
  },
  {
   "cell_type": "code",
   "execution_count": 131,
   "metadata": {},
   "outputs": [
    {
     "name": "stdout",
     "output_type": "stream",
     "text": [
      "John\n",
      "James\n",
      "['John', 'Joe', 'Jim']\n"
     ]
    }
   ],
   "source": [
    "# We can slice a list with the colon operator\n",
    "# The first number is inclusive, the second number is exclusive\n",
    "employee_list = [\"John\", \"Joe\", \"Jim\", \"James\", \"Jack\", \"Jeff\"]\n",
    "\n",
    "\n",
    "print(employee_list[0])\n",
    "print(employee_list[3])\n",
    "print(employee_list[0:3])"
   ]
  },
  {
   "cell_type": "code",
   "execution_count": null,
   "metadata": {},
   "outputs": [
    {
     "name": "stdout",
     "output_type": "stream",
     "text": [
      "['John', 'Jim', 'Jack']\n"
     ]
    }
   ],
   "source": [
    "# We slice with a step\n",
    "print(employee_list[0:5:2])"
   ]
  },
  {
   "cell_type": "code",
   "execution_count": 63,
   "metadata": {},
   "outputs": [
    {
     "name": "stdout",
     "output_type": "stream",
     "text": [
      "6\n",
      "['John', 'Joe', 'Jim', 'James', 'Jack', 'Jeff']\n"
     ]
    }
   ],
   "source": [
    "# We can slice the whole list\n",
    "print(len(employee_list))\n",
    "print(employee_list[0:len(employee_list)])"
   ]
  },
  {
   "cell_type": "code",
   "execution_count": 64,
   "metadata": {},
   "outputs": [
    {
     "name": "stdout",
     "output_type": "stream",
     "text": [
      "['John', 'Joe', 'Jim', 'James', 'Jack', 'Jeff']\n"
     ]
    }
   ],
   "source": [
    "# Those values will be implied if left out\n",
    "print(employee_list[:])"
   ]
  },
  {
   "cell_type": "code",
   "execution_count": 65,
   "metadata": {},
   "outputs": [
    {
     "name": "stdout",
     "output_type": "stream",
     "text": [
      "['Jeff', 'Jack', 'James', 'Jim', 'Joe', 'John']\n"
     ]
    }
   ],
   "source": [
    "# Reversing a list\n",
    "print(employee_list[::-1])"
   ]
  },
  {
   "cell_type": "code",
   "execution_count": null,
   "metadata": {},
   "outputs": [
    {
     "name": "stdout",
     "output_type": "stream",
     "text": [
      "[1, 2, 3, 4, 'buzz', 6, 7, 8, 9, 'buzz', 11, 12, 13, 14, 'buzz', 16, 17, 18, 19, 'buzz', 21, 22, 23, 24, 'buzz', 26, 27, 28, 29, 'buzz', 31, 32, 33, 34, 'buzz', 36, 37, 38, 39, 'buzz', 'buzz', 49, 48, 47, 46, 'buzz', 44, 43, 42, 41]\n"
     ]
    }
   ],
   "source": [
    "# Create a list of the first 50 numbers\n",
    "# Reverse the last 10 numbers in the list\n",
    "# Replace every number in the list divisible by 5 with the word \"buzz\"\n",
    "\n",
    "\n",
    "#TODO REMOVE THIS EXERCISE\n",
    "numbers = list(range(1, 51))\n",
    "reversed_numbers = numbers[len(numbers):-11:-1]\n",
    "numbers = numbers[:-10] + reversed_numbers\n",
    "\n",
    "for i in range(len(numbers)):\n",
    "    if numbers[i] % 5 == 0:\n",
    "        numbers[i] = \"buzz\"\n",
    "print(numbers)"
   ]
  },
  {
   "cell_type": "code",
   "execution_count": 87,
   "metadata": {},
   "outputs": [
    {
     "name": "stdout",
     "output_type": "stream",
     "text": [
      "(1, 2, 3)\n",
      "<class 'tuple'>\n",
      "1\n",
      "3\n"
     ]
    }
   ],
   "source": [
    "# Tuples\n",
    "my_tuple = (1, 2, 3)\n",
    "print(my_tuple)\n",
    "print(type(my_tuple))\n",
    "\n",
    "print(my_tuple[0])\n",
    "print(my_tuple[-1])"
   ]
  },
  {
   "cell_type": "code",
   "execution_count": 88,
   "metadata": {},
   "outputs": [
    {
     "ename": "TypeError",
     "evalue": "'tuple' object does not support item assignment",
     "output_type": "error",
     "traceback": [
      "\u001b[0;31m---------------------------------------------------------------------------\u001b[0m",
      "\u001b[0;31mTypeError\u001b[0m                                 Traceback (most recent call last)",
      "Cell \u001b[0;32mIn[88], line 1\u001b[0m\n\u001b[0;32m----> 1\u001b[0m \u001b[43mmy_tuple\u001b[49m\u001b[43m[\u001b[49m\u001b[38;5;241;43m0\u001b[39;49m\u001b[43m]\u001b[49m \u001b[38;5;241m=\u001b[39m \u001b[38;5;241m4\u001b[39m \u001b[38;5;66;03m# Tuples are immutable\u001b[39;00m\n",
      "\u001b[0;31mTypeError\u001b[0m: 'tuple' object does not support item assignment"
     ]
    }
   ],
   "source": [
    "my_tuple[0] = 4 # Tuples are immutable"
   ]
  },
  {
   "cell_type": "code",
   "execution_count": 94,
   "metadata": {},
   "outputs": [
    {
     "name": "stdout",
     "output_type": "stream",
     "text": [
      "z\n",
      "\n",
      "a\n",
      "b\n",
      "c\n"
     ]
    }
   ],
   "source": [
    "# Strings are sequences\n",
    "alphabet = \"abcdefghijklmnopqrstuvwxyz\"\n",
    "print(alphabet[-1])\n",
    "print()\n",
    "for i in alphabet[:3]:\n",
    "    print(i)"
   ]
  },
  {
   "cell_type": "code",
   "execution_count": 95,
   "metadata": {},
   "outputs": [
    {
     "name": "stdout",
     "output_type": "stream",
     "text": [
      "Sound the alarm\n"
     ]
    }
   ],
   "source": [
    "# Searching strings\n",
    "\n",
    "ip_addresses = \"192.168.1.1, 10.0.0.1, 172.16.0.1, 192.168.100.100, 10.10.10.10\"\n",
    "if \"172.16.0.1\" in ip_addresses:\n",
    "    print(\"Sound the alarm\")"
   ]
  },
  {
   "cell_type": "code",
   "execution_count": null,
   "metadata": {},
   "outputs": [
    {
     "name": "stdout",
     "output_type": "stream",
     "text": [
      "Password is alphanumeric\n",
      "Password is not alphanumeric\n",
      "False\n",
      "False\n",
      "True\n",
      "\n",
      "True\n",
      "False\n",
      "True\n",
      "1\n"
     ]
    }
   ],
   "source": [
    "# String testing\n",
    "password = \"a1b2c3d4\"\n",
    "if password.isalnum():\n",
    "    print(\"Password is alphanumeric\")\n",
    "\n",
    "bad_password = \"A1B2 C3D4$\"\n",
    "if not bad_password.isalnum():\n",
    "    print(\"Password is not alphanumeric\")\n",
    "\n",
    "\n",
    "\n",
    "print(password.isalpha())\n",
    "print(password.isdigit())\n",
    "print(password.islower())\n",
    "print()\n",
    "print(bad_password.isupper())\n",
    "print(bad_password.isspace())\n",
    "print(bad_password.startswith(\"A1\"))\n",
    "\n",
    "print(password.count(\"c\"))"
   ]
  },
  {
   "cell_type": "code",
   "execution_count": 118,
   "metadata": {},
   "outputs": [
    {
     "name": "stdout",
     "output_type": "stream",
     "text": [
      "alice\n"
     ]
    }
   ],
   "source": [
    "# String modification (Immutability)\n",
    "username = \"Alice\"\n",
    "username = username.lower()\n",
    "print(username)\n",
    "\n"
   ]
  },
  {
   "cell_type": "code",
   "execution_count": 121,
   "metadata": {},
   "outputs": [
    {
     "name": "stdout",
     "output_type": "stream",
     "text": [
      "6\n",
      "5\n"
     ]
    }
   ],
   "source": [
    "username = \"Alice \"\n",
    "print(len(username))\n",
    "username = username.strip()\n",
    "print(len(username))"
   ]
  },
  {
   "cell_type": "code",
   "execution_count": 123,
   "metadata": {},
   "outputs": [
    {
     "name": "stdout",
     "output_type": "stream",
     "text": [
      "google.com\n",
      "bing.com\n",
      "ikipedia.org\n"
     ]
    }
   ],
   "source": [
    "urls = [\"www.google.com\", \"www.bing.com\", \"www.wikipedia.org\"]\n",
    "for i in urls:\n",
    "    print(i.lstrip(\"w.\"))"
   ]
  },
  {
   "cell_type": "code",
   "execution_count": 126,
   "metadata": {},
   "outputs": [
    {
     "name": "stdout",
     "output_type": "stream",
     "text": [
      "True\n",
      "True\n",
      "16\n",
      "The slow brown fox jumps over the lazy dog\n"
     ]
    }
   ],
   "source": [
    "# Search and Replace\n",
    "sentence = \"The quick brown fox jumps over the lazy dog\"\n",
    "print(sentence.endswith(\"dog\"))\n",
    "print(sentence.startswith(\"The\"))\n",
    "print(sentence.find(\"fox\"))\n",
    "sentence = sentence.replace(\"quick\", \"slow\")\n",
    "\n",
    "print(sentence)\n",
    "\n"
   ]
  },
  {
   "cell_type": "code",
   "execution_count": 132,
   "metadata": {},
   "outputs": [
    {
     "name": "stdout",
     "output_type": "stream",
     "text": [
      "['Alice', 'Bob', 'Charlie', 'David', 'Eve']\n"
     ]
    }
   ],
   "source": [
    "# String splitting\n",
    "\n",
    "csv_formatted_names = \"Alice, Bob, Charlie, David, Eve\"\n",
    "names = csv_formatted_names.split(\", \")\n",
    "print(names)"
   ]
  },
  {
   "cell_type": "code",
   "execution_count": 129,
   "metadata": {},
   "outputs": [
    {
     "name": "stdout",
     "output_type": "stream",
     "text": [
      "['1234567890', '1234567890', '1234567890', '1234567890', '1234567890']\n"
     ]
    }
   ],
   "source": [
    "# Make a new list of uniform phone numbers\n",
    "\n",
    "phone_numbers = [\"(123) 456-7890 \", \"123-456-7890\", \"#(123)-456-7890\", \"1234567890\", \"123.456.7890\"]\n",
    "uniform_phone_numbers = []\n",
    "\n",
    "#TODO REMOVE THIS EXERCISE\n",
    "for number in phone_numbers:\n",
    "    number = number.strip()\n",
    "    number = number.strip(\"#()\")\n",
    "    number = number.replace(\")\", \"\")\n",
    "    number = number.replace(\"-\", \"\")\n",
    "    number = number.replace(\".\", \"\")\n",
    "    number = number.replace(\" \", \"\")\n",
    "    uniform_phone_numbers.append(number)\n",
    "print(uniform_phone_numbers)\n"
   ]
  },
  {
   "cell_type": "code",
   "execution_count": 148,
   "metadata": {},
   "outputs": [
    {
     "name": "stdout",
     "output_type": "stream",
     "text": [
      "{1, 2, 3, 4, 5}\n",
      "<class 'set'>\n"
     ]
    }
   ],
   "source": [
    "# Sets are unordered collections of unique elements\n",
    "\n",
    "my_set = {1, 1, 2, 2, 3, 3, 4, 4, 5, 5}\n",
    "print(my_set)\n",
    "print(type(my_set))"
   ]
  },
  {
   "cell_type": "code",
   "execution_count": null,
   "metadata": {},
   "outputs": [
    {
     "name": "stdout",
     "output_type": "stream",
     "text": [
      "{'o', 'e', 'w', 'h', 'l', 'd', ' ', 'r'}\n",
      "<class 'set'>\n"
     ]
    }
   ],
   "source": [
    "# Using the set() function\n",
    "\n",
    "my_set1 = set(\"hello world\")\n",
    "print(my_set1)\n",
    "print(type(my_set1))\n"
   ]
  },
  {
   "cell_type": "code",
   "execution_count": null,
   "metadata": {},
   "outputs": [
    {
     "name": "stdout",
     "output_type": "stream",
     "text": [
      "{'world', 'hello'}\n",
      "<class 'set'>\n"
     ]
    }
   ],
   "source": [
    "# Using the set() with a list\n",
    "\n",
    "my_set2 = set([\"hello\", \"world\"])\n",
    "print(my_set2)\n",
    "print(type(my_set2))"
   ]
  },
  {
   "cell_type": "code",
   "execution_count": null,
   "metadata": {},
   "outputs": [
    {
     "name": "stdout",
     "output_type": "stream",
     "text": [
      "{'Hannah', 'David', 'Bob', 'Charlie', 'Grace', 'Alice', 'Frank'}\n"
     ]
    }
   ],
   "source": [
    "# Sets largely behave list lists\n",
    "\n",
    "set_of_names = {\"Alice\", \"Bob\", \"Charlie\", \"David\", \"Eve\"}\n",
    "set_of_names.pop()\n",
    "set_of_names.add(\"Frank\")\n",
    "set_of_names.update([\"Grace\", \"Hannah\"])\n",
    "\n",
    "print(set_of_names)"
   ]
  },
  {
   "cell_type": "code",
   "execution_count": 153,
   "metadata": {},
   "outputs": [
    {
     "ename": "KeyError",
     "evalue": "'bob'",
     "output_type": "error",
     "traceback": [
      "\u001b[0;31m---------------------------------------------------------------------------\u001b[0m",
      "\u001b[0;31mKeyError\u001b[0m                                  Traceback (most recent call last)",
      "Cell \u001b[0;32mIn[153], line 2\u001b[0m\n\u001b[1;32m      1\u001b[0m \u001b[38;5;66;03m# Remove vs Discard\u001b[39;00m\n\u001b[0;32m----> 2\u001b[0m \u001b[43mset_of_names\u001b[49m\u001b[38;5;241;43m.\u001b[39;49m\u001b[43mremove\u001b[49m\u001b[43m(\u001b[49m\u001b[38;5;124;43m\"\u001b[39;49m\u001b[38;5;124;43mbob\u001b[39;49m\u001b[38;5;124;43m\"\u001b[39;49m\u001b[43m)\u001b[49m\n",
      "\u001b[0;31mKeyError\u001b[0m: 'bob'"
     ]
    }
   ],
   "source": [
    "# Remove vs Discard\n",
    "set_of_names.remove(\"bob\")"
   ]
  },
  {
   "cell_type": "code",
   "execution_count": null,
   "metadata": {},
   "outputs": [
    {
     "name": "stdout",
     "output_type": "stream",
     "text": [
      "{'David', 'Bob', 'Charlie', 'Alice', 'Frank'}\n"
     ]
    }
   ],
   "source": [
    "set_of_names.discard(\"bob\")\n",
    "print(set_of_names)"
   ]
  },
  {
   "cell_type": "code",
   "execution_count": null,
   "metadata": {},
   "outputs": [
    {
     "name": "stdout",
     "output_type": "stream",
     "text": [
      "7\n",
      "['alice@example.com', 'bob@example.com', 'charlie@example.com', 'alice@example.com', 'dave@example.com', 'eve@example.com', 'bob@example.com']\n",
      "\n",
      "{'charlie@example.com', 'dave@example.com', 'alice@example.com', 'bob@example.com', 'eve@example.com'}\n",
      "5\n"
     ]
    }
   ],
   "source": [
    "# Sets are useful for deduplication\n",
    "mailing_list = [\n",
    "    \"alice@example.com\",\n",
    "    \"bob@example.com\",\n",
    "    \"charlie@example.com\",\n",
    "    \"alice@example.com\",\n",
    "    \"dave@example.com\",\n",
    "    \"eve@example.com\",\n",
    "    \"bob@example.com\"\n",
    "]\n",
    "\n",
    "print(len(mailing_list))\n",
    "print(mailing_list)\n",
    "print()\n",
    "\n",
    "unique_emails = set(mailing_list)\n",
    "\n",
    "print(unique_emails)\n",
    "print(len(unique_emails))\n"
   ]
  },
  {
   "cell_type": "code",
   "execution_count": null,
   "metadata": {},
   "outputs": [
    {
     "name": "stdout",
     "output_type": "stream",
     "text": [
      "{1, 2, 3, 4, 5, 6}\n"
     ]
    }
   ],
   "source": [
    "# Unions\n",
    "set1 = {1, 2, 3, 4}\n",
    "set2 = {3, 4, 5, 6}\n",
    "\n",
    "union_set = set1 | set2 # OR set1.union(set2)\n",
    "print(union_set)"
   ]
  },
  {
   "cell_type": "code",
   "execution_count": 169,
   "metadata": {},
   "outputs": [
    {
     "name": "stdout",
     "output_type": "stream",
     "text": [
      "{3, 4}\n"
     ]
    }
   ],
   "source": [
    "# Intersections\n",
    "intersection_set = set1 & set2 # OR set1.intersection(set2)\n",
    "print(intersection_set)"
   ]
  },
  {
   "cell_type": "code",
   "execution_count": 170,
   "metadata": {},
   "outputs": [
    {
     "name": "stdout",
     "output_type": "stream",
     "text": [
      "{1, 2}\n"
     ]
    }
   ],
   "source": [
    "# Differences\n",
    "difference_set = set1 - set2 # OR set1.difference(set2)\n",
    "print(difference_set)"
   ]
  },
  {
   "cell_type": "code",
   "execution_count": 176,
   "metadata": {},
   "outputs": [
    {
     "name": "stdout",
     "output_type": "stream",
     "text": [
      "set4 is a subset of set3\n",
      "set3 is a superset of set4\n"
     ]
    }
   ],
   "source": [
    "# Subsets and Supersets\n",
    "\n",
    "set3 = {\"a\", \"b\", \"c\", \"d\"}\n",
    "set4 = {\"a\", \"b\"}\n",
    "\n",
    "if set4 <= set3:\n",
    "    print(\"set4 is a subset of set3\")\n",
    "\n",
    "if set3 >= set4:\n",
    "    print(\"set3 is a superset of set4\")\n"
   ]
  }
 ],
 "metadata": {
  "kernelspec": {
   "display_name": ".venv",
   "language": "python",
   "name": "python3"
  },
  "language_info": {
   "codemirror_mode": {
    "name": "ipython",
    "version": 3
   },
   "file_extension": ".py",
   "mimetype": "text/x-python",
   "name": "python",
   "nbconvert_exporter": "python",
   "pygments_lexer": "ipython3",
   "version": "3.13.0"
  }
 },
 "nbformat": 4,
 "nbformat_minor": 2
}
